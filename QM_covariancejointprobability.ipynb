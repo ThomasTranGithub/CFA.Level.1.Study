{
  "nbformat": 4,
  "nbformat_minor": 0,
  "metadata": {
    "colab": {
      "provenance": [],
      "authorship_tag": "ABX9TyNgJfc5/ceizaLFbwG9aEIP",
      "include_colab_link": true
    },
    "kernelspec": {
      "name": "python3",
      "display_name": "Python 3"
    },
    "language_info": {
      "name": "python"
    }
  },
  "cells": [
    {
      "cell_type": "markdown",
      "metadata": {
        "id": "view-in-github",
        "colab_type": "text"
      },
      "source": [
        "<a href=\"https://colab.research.google.com/github/ThomasTranGithub/CFA.Level.1.Study/blob/main/QM_covariancejointprobability.ipynb\" target=\"_parent\"><img src=\"https://colab.research.google.com/assets/colab-badge.svg\" alt=\"Open In Colab\"/></a>"
      ]
    },
    {
      "cell_type": "code",
      "execution_count": null,
      "metadata": {
        "id": "oCJE4LRm08vl"
      },
      "outputs": [],
      "source": []
    },
    {
      "cell_type": "markdown",
      "source": [
        "#**Covariance Given Joint Probability**\n",
        "\n",
        "**Learning Outcome**\n",
        "\n",
        "* calculate and interpret the covariances of portfolio returns using the joint probability function."
      ],
      "metadata": {
        "id": "TaePT_ud126C"
      }
    },
    {
      "cell_type": "markdown",
      "source": [
        "* We can calculate covariance using the joint probability function of the random variables, if that can be estimated."
      ],
      "metadata": {
        "id": "XMPvfZiW5P0X"
      }
    },
    {
      "cell_type": "markdown",
      "source": [
        "* Joint Probability Function\n",
        "\n",
        "The joint probability function of two random variables X and Y. denoted P(X,Y), gives the probability of joint occurences of X and Y. For example:\n",
        "\n",
        "* P(X=3, Y=2)\n",
        "\n"
      ],
      "metadata": {
        "id": "vkYS6ym-K-VX"
      }
    },
    {
      "cell_type": "markdown",
      "source": [],
      "metadata": {
        "id": "r4OnqcjmPYMn"
      }
    },
    {
      "cell_type": "code",
      "source": [
        "\n",
        "\n",
        "R_fi = (25 * .25) + (15 * .50) + (10 * .25)\n",
        "R_di = (30 * .25) + (25 * .50) + (15 * .25)\n",
        "\n",
        "\n",
        "print(R_fi)\n",
        "print(R_di)\n",
        "\n"
      ],
      "metadata": {
        "colab": {
          "base_uri": "https://localhost:8080/"
        },
        "id": "KgqCZptkPag_",
        "outputId": "fbaeaaf6-682a-49b0-cdec-8809d112297e"
      },
      "execution_count": 15,
      "outputs": [
        {
          "output_type": "stream",
          "name": "stdout",
          "text": [
            "16.25\n",
            "23.75\n"
          ]
        }
      ]
    },
    {
      "cell_type": "code",
      "source": [
        "#product of deviation\n",
        "\n",
        "DevR_figood = (25 - R_fi)\n",
        "\n",
        "DevR_fiaverage = (15 - R_fi)\n",
        "\n",
        "DevR_fipoor = (10 - R_fi)\n",
        "\n",
        "print(DevR_figood, DevR_fiaverage, DevR_fipoor)"
      ],
      "metadata": {
        "colab": {
          "base_uri": "https://localhost:8080/"
        },
        "id": "1zTd4IPTSNKc",
        "outputId": "fcc869b5-d2de-4a8b-c5a4-2c8176e03554"
      },
      "execution_count": 16,
      "outputs": [
        {
          "output_type": "stream",
          "name": "stdout",
          "text": [
            "8.75 -1.25 -6.25\n"
          ]
        }
      ]
    },
    {
      "cell_type": "code",
      "source": [
        "DevR_digood = (30 - R_di)\n",
        "\n",
        "DevR_diaverage = (25 - R_di)\n",
        "\n",
        "DevR_dipoor = (15 - R_di)\n",
        "\n",
        "print(DevR_digood, DevR_diaverage, DevR_dipoor)"
      ],
      "metadata": {
        "colab": {
          "base_uri": "https://localhost:8080/"
        },
        "id": "Peh_rx26SaeM",
        "outputId": "32499a4d-7a87-4859-8915-59a3c615d65b"
      },
      "execution_count": 17,
      "outputs": [
        {
          "output_type": "stream",
          "name": "stdout",
          "text": [
            "6.25 1.25 -8.75\n"
          ]
        }
      ]
    },
    {
      "cell_type": "code",
      "source": [
        "#Product of Deviation\n",
        "\n",
        "\n",
        "podgood = DevR_figood * DevR_digood\n",
        "\n",
        "podaverage = DevR_fiaverage * DevR_diaverage\n",
        "\n",
        "podpoor = DevR_fipoor * DevR_dipoor\n"
      ],
      "metadata": {
        "id": "NKoaIISNSrTy"
      },
      "execution_count": 18,
      "outputs": []
    },
    {
      "cell_type": "code",
      "source": [
        "pocgood = .20\n",
        "\n",
        "pocaverage = .50\n",
        "\n",
        "pocpoor = .30\n",
        "\n",
        "\n",
        "pwpgood = podgood * pocgood\n",
        "\n",
        "pwpaverage = podaverage * pocaverage\n",
        "\n",
        "pwppoor = podpoor * pocpoor\n",
        "\n",
        "\n",
        "covrfirdi = pwpgood + pwpaverage + pwppoor\n",
        "\n",
        "print(covrfirdi)"
      ],
      "metadata": {
        "colab": {
          "base_uri": "https://localhost:8080/"
        },
        "id": "P15O7YMtTtFX",
        "outputId": "1cb585f0-5d11-40d9-928e-8e68bde7e3c3"
      },
      "execution_count": 19,
      "outputs": [
        {
          "output_type": "stream",
          "name": "stdout",
          "text": [
            "26.5625\n"
          ]
        }
      ]
    },
    {
      "cell_type": "code",
      "source": [
        "#Joint Probability Function of Secuity A and Secuity B Returns\n",
        "\n",
        "R_A = (25 * .60) + (20 * .40)\n",
        "\n",
        "R_B = (30 * .60) + (20 * .40)\n",
        "\n",
        "DevAGood = (25 - R_A)\n",
        "\n",
        "DevAAverage = (20 - R_A)\n",
        "\n",
        "DevBGood = (30 - R_B)\n",
        "\n",
        "DevBAverage = (20 - R_B)\n",
        "\n",
        "podRgood = DevAGood * DevBGood\n",
        "\n",
        "podRaverage = DevAAverage * DevBAverage\n",
        "\n",
        "pocRgood = .60\n",
        "\n",
        "pocRaverage = .40\n",
        "\n",
        "pwpRgood = podRgood * pocRgood\n",
        "\n",
        "pwpRaverage = podRaverage * pocRaverage\n",
        "\n",
        "covReturns = pwpRgood + pwpRaverage\n",
        "\n",
        "print(covReturns)\n"
      ],
      "metadata": {
        "colab": {
          "base_uri": "https://localhost:8080/"
        },
        "id": "5QmdfapPVUOf",
        "outputId": "550c7b05-c5a6-4e66-f4ea-48caedd595a7"
      },
      "execution_count": 23,
      "outputs": [
        {
          "output_type": "stream",
          "name": "stdout",
          "text": [
            "12.0\n"
          ]
        }
      ]
    }
  ]
}