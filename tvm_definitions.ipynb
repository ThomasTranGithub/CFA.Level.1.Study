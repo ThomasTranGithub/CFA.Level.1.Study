{
  "nbformat": 4,
  "nbformat_minor": 0,
  "metadata": {
    "colab": {
      "provenance": [],
      "authorship_tag": "ABX9TyM6QC2R/9q2Mm9x7ToTsWkm",
      "include_colab_link": true
    },
    "kernelspec": {
      "name": "python3",
      "display_name": "Python 3"
    },
    "language_info": {
      "name": "python"
    }
  },
  "cells": [
    {
      "cell_type": "markdown",
      "metadata": {
        "id": "view-in-github",
        "colab_type": "text"
      },
      "source": [
        "<a href=\"https://colab.research.google.com/github/ThomasTranGithub/cfaquantitativemethods/blob/main/tvm_definitions.ipynb\" target=\"_parent\"><img src=\"https://colab.research.google.com/assets/colab-badge.svg\" alt=\"Open In Colab\"/></a>"
      ]
    },
    {
      "cell_type": "code",
      "execution_count": null,
      "metadata": {
        "id": "o3isezVtBKjX"
      },
      "outputs": [],
      "source": []
    },
    {
      "cell_type": "markdown",
      "source": [
        "**interest rate** r is the required rate of return; **r** is also called the discount rate or **opportunity cost**"
      ],
      "metadata": {
        "id": "VxEabnYrBSg4"
      }
    },
    {
      "cell_type": "markdown",
      "source": [
        "interest rate can be viewed as the sum of the **real risk-free inerest rate** + premiums that compensate lenders for risk: **inflation premium, defaulf premium, liquidity premium, maturity premium.**"
      ],
      "metadata": {
        "id": "PwknqUwUBh9i"
      }
    },
    {
      "cell_type": "markdown",
      "source": [
        "**FV:Future Value** is the present value PV, times the future value factor, **(1+r) ** (N)**"
      ],
      "metadata": {
        "id": "UgcTpo5EB8AO"
      }
    },
    {
      "cell_type": "markdown",
      "source": [
        "The Interest rate, r, makes current and futre currency amounts equivalent based on their time value"
      ],
      "metadata": {
        "id": "DIbFgqIBCMfu"
      }
    },
    {
      "cell_type": "markdown",
      "source": [
        "The stated annual interest rate is a quoted interest rate that does not account for compounding within the year"
      ],
      "metadata": {
        "id": "IrwdZkG7CWl4"
      }
    },
    {
      "cell_type": "markdown",
      "source": [
        "The periodic rate is the quoted interest rate per period; it equals the stated annual interest rate divided by the number of compounding periods per year. "
      ],
      "metadata": {
        "id": "urERLsLRCbU5"
      }
    },
    {
      "cell_type": "markdown",
      "source": [
        "The effective annual rate is the amount by which a unit of currency will grow in a year with interest on interest included."
      ],
      "metadata": {
        "id": "qzErrT4wCjsU"
      }
    },
    {
      "cell_type": "markdown",
      "source": [
        "An annuity is a finit set of level sequenital cash flows "
      ],
      "metadata": {
        "id": "wYUWfYZ6CqC1"
      }
    },
    {
      "cell_type": "markdown",
      "source": [
        "There are two types of annuities, the annuity due an d the orindiary annuity. The annuity due has a first cash flow that occurs immediatedly; the ordinary annity has a first cash flow that occurs one period from the present"
      ],
      "metadata": {
        "id": "VD0hQHQ4CvE7"
      }
    },
    {
      "cell_type": "markdown",
      "source": [
        "On a time lime, we can index the present as 0 and then display equally spaced has marks to represent a number of periods into the future. This representation allows us to index how many periods away each cash flow will be paid. "
      ],
      "metadata": {
        "id": "DSFDBfdeC9Gs"
      }
    },
    {
      "cell_type": "markdown",
      "source": [
        "Annuities may be handled in a similar approach as single payments if we use annuity factors rather than single payment factors. "
      ],
      "metadata": {
        "id": "A0Eo0vI-DKIs"
      }
    },
    {
      "cell_type": "markdown",
      "source": [
        "The present value, PV, is the future value, FV, times the present value factor. "
      ],
      "metadata": {
        "id": "BJEXUfwbDSa8"
      }
    },
    {
      "cell_type": "markdown",
      "source": [
        "The present value of a perpetuity is A/r wherre A is the periodic payment to be recieved forever"
      ],
      "metadata": {
        "id": "DTUe6f0kDbvw"
      }
    },
    {
      "cell_type": "markdown",
      "source": [
        "It is possible to calculate an unkown variable, given the other relevant variable in time value of money problems "
      ],
      "metadata": {
        "id": "RAYv76NPDiNB"
      }
    },
    {
      "cell_type": "markdown",
      "source": [
        "The Cash Flow addivity principle can be used to solve problems with uneven cash flows by combining single paymens and annuities "
      ],
      "metadata": {
        "id": "9e-SFhTMDxaR"
      }
    },
    {
      "cell_type": "markdown",
      "source": [],
      "metadata": {
        "id": "4CyJdS0jEJJw"
      }
    }
  ]
}